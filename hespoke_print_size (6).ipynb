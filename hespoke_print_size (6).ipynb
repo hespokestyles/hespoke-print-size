{
  "nbformat": 4,
  "nbformat_minor": 0,
  "metadata": {
    "colab": {
      "provenance": []
    },
    "kernelspec": {
      "name": "python3",
      "display_name": "Python 3"
    },
    "language_info": {
      "name": "python"
    }
  },
  "cells": [
    {
      "cell_type": "code",
      "execution_count": null,
      "metadata": {
        "id": "yNu7-Uoky0hX"
      },
      "outputs": [],
      "source": [
        "import cv2\n",
        "import numpy as np\n",
        "import matplotlib.pyplot as plt\n",
        "from matplotlib.widgets import LassoSelector\n",
        "from matplotlib.path import Path\n",
        "from ipywidgets import FileUpload, Button, Output\n",
        "from IPython.display import display\n",
        "import io\n",
        "\n",
        "# Enable interactive matplotlib\n",
        "%matplotlib widget\n",
        "\n",
        "# Create a file upload widget\n",
        "upload = FileUpload(accept='.jpg,.png', multiple=False)\n",
        "display(upload)\n",
        "\n",
        "# Create a button to trigger processing\n",
        "button = Button(description=\"Process Image\")\n",
        "output = Output()\n",
        "\n",
        "def process_image(upload_widget):\n",
        "    \"\"\"Reads an uploaded image file and converts it to a NumPy array.\"\"\"\n",
        "    if not upload_widget.value:\n",
        "        print(\"Error: No image uploaded.\")\n",
        "        return None\n",
        "\n",
        "    # Debug: Print the type and structure of upload.value\n",
        "    print(\"Debug: upload.value type:\", type(upload_widget.value))\n",
        "    print(\"Debug: upload.value content:\", upload_widget.value)\n",
        "\n",
        "    # Extract the first file from the tuple\n",
        "    file_data = upload_widget.value[0]  # Directly access the first element of the tuple\n",
        "    file_bytes = file_data['content']  # Extract byte content\n",
        "\n",
        "    # Convert byte content into a NumPy array\n",
        "    image_array = np.frombuffer(file_bytes, np.uint8)\n",
        "\n",
        "    # Decode image using OpenCV\n",
        "    image = cv2.imdecode(image_array, cv2.IMREAD_COLOR)\n",
        "\n",
        "    if image is None:\n",
        "        print(\"Error: Failed to decode image.\")\n",
        "        return None\n",
        "\n",
        "    return image\n",
        "\n",
        "def on_button_click(b):\n",
        "    \"\"\"Handles button click to process the uploaded image.\"\"\"\n",
        "    with output:\n",
        "        output.clear_output()  # Clear previous outputs\n",
        "\n",
        "        # Process the uploaded image\n",
        "        image = process_image(upload)\n",
        "\n",
        "        if image is None:\n",
        "            print(\"Please upload a valid image file.\")\n",
        "            return\n",
        "\n",
        "        # Convert the image from BGR to RGB (for matplotlib display)\n",
        "        image_rgb = cv2.cvtColor(image, cv2.COLOR_BGR2RGB)\n",
        "\n",
        "        # Display the image\n",
        "        plt.imshow(image_rgb)\n",
        "        plt.axis('off')\n",
        "        plt.show()\n",
        "\n",
        "button.on_click(on_button_click)\n",
        "\n",
        "# Display the button and output\n",
        "display(button, output)\n"
      ]
    }
  ]
}